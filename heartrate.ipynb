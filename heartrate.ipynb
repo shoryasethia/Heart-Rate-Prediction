{
 "cells": [
  {
   "cell_type": "markdown",
   "metadata": {},
   "source": [
    "# Libraries\n"
   ]
  },
  {
   "cell_type": "code",
   "execution_count": 1,
   "metadata": {},
   "outputs": [],
   "source": [
    "import pandas as pd\n",
    "import matplotlib.pyplot as plt\n",
    "from sklearn.model_selection import train_test_split\n",
    "from sklearn.ensemble import RandomForestRegressor\n",
    "from sklearn.metrics import mean_squared_error, r2_score\n",
    "from sklearn.preprocessing import StandardScaler, OneHotEncoder\n",
    "from sklearn.compose import ColumnTransformer\n",
    "from sklearn.pipeline import make_pipeline\n",
    "import numpy as np\n",
    "import seaborn as sns"
   ]
  },
  {
   "cell_type": "markdown",
   "metadata": {},
   "source": [
    "# Reading data"
   ]
  },
  {
   "cell_type": "code",
   "execution_count": 2,
   "metadata": {},
   "outputs": [
    {
     "name": "stdout",
     "output_type": "stream",
     "text": [
      "                                   uuid          VLF    VLF_PCT           LF  \\\n",
      "0  4a122afe-6e52-4ed0-840d-66155da95ba1  2259.833995  67.884986  1058.573968   \n",
      "1  0848f722-52ec-420c-adb1-a1e90a2e2709  2430.367576  60.980572  1541.466293   \n",
      "2  7814286a-f939-45a7-8620-82b339a7ad4b   989.800997  27.651929  2478.164707   \n",
      "3  de843d67-0ed3-4dfe-af91-78923dc31810  2025.914557  57.014236  1464.561241   \n",
      "4  ba117ec1-3de8-4da3-a315-4c7716589439  1576.443907  71.274370   619.624143   \n",
      "\n",
      "      LF_PCT      LF_NU          HF    HF_PCT     HF_NU           TP  ...  \\\n",
      "0  31.799362  99.017120   10.507787  0.315652  0.982880  3328.915749  ...   \n",
      "1  38.677070  99.122594   13.644635  0.342359  0.877406  3985.478504  ...   \n",
      "2  69.232133  95.693128  111.535043  3.115939  4.306872  3579.500746  ...   \n",
      "3  41.216368  95.883762   62.872820  1.769396  4.116238  3553.348618  ...   \n",
      "4  28.014521  97.524479   15.728281  0.711109  2.475521  2211.796331  ...   \n",
      "\n",
      "       KURT      SKEW  MEAN_REL_RR  MEDIAN_REL_RR  SDRR_REL_RR  RMSSD_REL_RR  \\\n",
      "0 -0.812408 -0.156490    -0.000055      -0.000191     0.017395      0.007729   \n",
      "1  0.014594 -0.595771    -0.000035      -0.000671     0.021513      0.011262   \n",
      "2 -0.470107  0.170303     0.000080      -0.001355     0.029976      0.015781   \n",
      "3  0.176038 -0.506675     0.000024       0.000587     0.023851      0.011562   \n",
      "4  0.410326  0.208714    -0.000109      -0.000151     0.014282      0.007043   \n",
      "\n",
      "   SDSD_REL_RR SDRR_RMSSD_REL_RR  KURT_REL_RR  SKEW_REL_RR  \n",
      "0     0.007729          2.250533    -0.812408    -0.156490  \n",
      "1     0.011262          1.910181     0.014594    -0.595771  \n",
      "2     0.015781          1.899494    -0.470107     0.170303  \n",
      "3     0.011562          2.062848     0.176038    -0.506675  \n",
      "4     0.007043          2.027828     0.410326     0.208714  \n",
      "\n",
      "[5 rows x 37 columns]\n"
     ]
    }
   ],
   "source": [
    "data = pd.read_csv(\"train_data.csv\")\n",
    "print(data.head())"
   ]
  },
  {
   "cell_type": "markdown",
   "metadata": {},
   "source": [
    "## Exploratory Data Analysis"
   ]
  },
  {
   "cell_type": "code",
   "execution_count": 3,
   "metadata": {},
   "outputs": [
    {
     "data": {
      "text/plain": [
       "Index(['uuid', 'VLF', 'VLF_PCT', 'LF', 'LF_PCT', 'LF_NU', 'HF', 'HF_PCT',\n",
       "       'HF_NU', 'TP', 'LF_HF', 'HF_LF', 'SD1', 'SD2', 'sampen', 'higuci',\n",
       "       'datasetId', 'condition', 'MEAN_RR', 'MEDIAN_RR', 'SDRR', 'RMSSD',\n",
       "       'SDSD', 'SDRR_RMSSD', 'HR', 'pNN25', 'pNN50', 'KURT', 'SKEW',\n",
       "       'MEAN_REL_RR', 'MEDIAN_REL_RR', 'SDRR_REL_RR', 'RMSSD_REL_RR',\n",
       "       'SDSD_REL_RR', 'SDRR_RMSSD_REL_RR', 'KURT_REL_RR', 'SKEW_REL_RR'],\n",
       "      dtype='object')"
      ]
     },
     "execution_count": 3,
     "metadata": {},
     "output_type": "execute_result"
    }
   ],
   "source": [
    "data.columns"
   ]
  },
  {
   "cell_type": "code",
   "execution_count": 4,
   "metadata": {},
   "outputs": [
    {
     "name": "stdout",
     "output_type": "stream",
     "text": [
      "['uuid', 'VLF', 'VLF_PCT', 'LF', 'LF_PCT', 'LF_NU', 'HF', 'HF_PCT', 'HF_NU', 'TP', 'LF_HF', 'HF_LF', 'SD1', 'SD2', 'sampen', 'higuci', 'datasetId', 'condition', 'MEAN_RR', 'MEDIAN_RR', 'SDRR', 'RMSSD', 'SDSD', 'SDRR_RMSSD', 'HR', 'pNN25', 'pNN50', 'KURT', 'SKEW', 'MEAN_REL_RR', 'MEDIAN_REL_RR', 'SDRR_REL_RR', 'RMSSD_REL_RR', 'SDSD_REL_RR', 'SDRR_RMSSD_REL_RR', 'KURT_REL_RR', 'SKEW_REL_RR']\n",
      "37\n"
     ]
    }
   ],
   "source": [
    "feature_columns = data.columns\n",
    "\n",
    "label_columns = list(feature_columns)\n",
    "print(label_columns)\n",
    "print(len(label_columns))"
   ]
  },
  {
   "cell_type": "code",
   "execution_count": 5,
   "metadata": {},
   "outputs": [
    {
     "data": {
      "text/plain": [
       "(5000, 37)"
      ]
     },
     "execution_count": 5,
     "metadata": {},
     "output_type": "execute_result"
    }
   ],
   "source": [
    "data.shape"
   ]
  },
  {
   "cell_type": "code",
   "execution_count": 6,
   "metadata": {},
   "outputs": [
    {
     "name": "stdout",
     "output_type": "stream",
     "text": [
      "<class 'pandas.core.frame.DataFrame'>\n",
      "RangeIndex: 5000 entries, 0 to 4999\n",
      "Data columns (total 37 columns):\n",
      " #   Column             Non-Null Count  Dtype  \n",
      "---  ------             --------------  -----  \n",
      " 0   uuid               5000 non-null   object \n",
      " 1   VLF                5000 non-null   float64\n",
      " 2   VLF_PCT            5000 non-null   float64\n",
      " 3   LF                 5000 non-null   float64\n",
      " 4   LF_PCT             5000 non-null   float64\n",
      " 5   LF_NU              5000 non-null   float64\n",
      " 6   HF                 5000 non-null   float64\n",
      " 7   HF_PCT             5000 non-null   float64\n",
      " 8   HF_NU              5000 non-null   float64\n",
      " 9   TP                 5000 non-null   float64\n",
      " 10  LF_HF              5000 non-null   float64\n",
      " 11  HF_LF              5000 non-null   float64\n",
      " 12  SD1                5000 non-null   float64\n",
      " 13  SD2                5000 non-null   float64\n",
      " 14  sampen             5000 non-null   float64\n",
      " 15  higuci             5000 non-null   float64\n",
      " 16  datasetId          5000 non-null   int64  \n",
      " 17  condition          5000 non-null   object \n",
      " 18  MEAN_RR            5000 non-null   float64\n",
      " 19  MEDIAN_RR          5000 non-null   float64\n",
      " 20  SDRR               5000 non-null   float64\n",
      " 21  RMSSD              5000 non-null   float64\n",
      " 22  SDSD               5000 non-null   float64\n",
      " 23  SDRR_RMSSD         5000 non-null   float64\n",
      " 24  HR                 5000 non-null   float64\n",
      " 25  pNN25              5000 non-null   float64\n",
      " 26  pNN50              5000 non-null   float64\n",
      " 27  KURT               5000 non-null   float64\n",
      " 28  SKEW               5000 non-null   float64\n",
      " 29  MEAN_REL_RR        5000 non-null   float64\n",
      " 30  MEDIAN_REL_RR      5000 non-null   float64\n",
      " 31  SDRR_REL_RR        5000 non-null   float64\n",
      " 32  RMSSD_REL_RR       5000 non-null   float64\n",
      " 33  SDSD_REL_RR        5000 non-null   float64\n",
      " 34  SDRR_RMSSD_REL_RR  5000 non-null   float64\n",
      " 35  KURT_REL_RR        5000 non-null   float64\n",
      " 36  SKEW_REL_RR        5000 non-null   float64\n",
      "dtypes: float64(34), int64(1), object(2)\n",
      "memory usage: 1.4+ MB\n"
     ]
    }
   ],
   "source": [
    "data.info()"
   ]
  },
  {
   "cell_type": "code",
   "execution_count": 7,
   "metadata": {},
   "outputs": [
    {
     "data": {
      "text/html": [
       "<div>\n",
       "<style scoped>\n",
       "    .dataframe tbody tr th:only-of-type {\n",
       "        vertical-align: middle;\n",
       "    }\n",
       "\n",
       "    .dataframe tbody tr th {\n",
       "        vertical-align: top;\n",
       "    }\n",
       "\n",
       "    .dataframe thead th {\n",
       "        text-align: right;\n",
       "    }\n",
       "</style>\n",
       "<table border=\"1\" class=\"dataframe\">\n",
       "  <thead>\n",
       "    <tr style=\"text-align: right;\">\n",
       "      <th></th>\n",
       "      <th>VLF</th>\n",
       "      <th>VLF_PCT</th>\n",
       "      <th>LF</th>\n",
       "      <th>LF_PCT</th>\n",
       "      <th>LF_NU</th>\n",
       "      <th>HF</th>\n",
       "      <th>HF_PCT</th>\n",
       "      <th>HF_NU</th>\n",
       "      <th>TP</th>\n",
       "      <th>LF_HF</th>\n",
       "      <th>...</th>\n",
       "      <th>KURT</th>\n",
       "      <th>SKEW</th>\n",
       "      <th>MEAN_REL_RR</th>\n",
       "      <th>MEDIAN_REL_RR</th>\n",
       "      <th>SDRR_REL_RR</th>\n",
       "      <th>RMSSD_REL_RR</th>\n",
       "      <th>SDSD_REL_RR</th>\n",
       "      <th>SDRR_RMSSD_REL_RR</th>\n",
       "      <th>KURT_REL_RR</th>\n",
       "      <th>SKEW_REL_RR</th>\n",
       "    </tr>\n",
       "  </thead>\n",
       "  <tbody>\n",
       "    <tr>\n",
       "      <th>count</th>\n",
       "      <td>5000.000000</td>\n",
       "      <td>5000.000000</td>\n",
       "      <td>5000.000000</td>\n",
       "      <td>5000.000000</td>\n",
       "      <td>5000.000000</td>\n",
       "      <td>5000.000000</td>\n",
       "      <td>5000.000000</td>\n",
       "      <td>5000.000000</td>\n",
       "      <td>5000.000000</td>\n",
       "      <td>5000.000000</td>\n",
       "      <td>...</td>\n",
       "      <td>5000.000000</td>\n",
       "      <td>5000.000000</td>\n",
       "      <td>5.000000e+03</td>\n",
       "      <td>5000.000000</td>\n",
       "      <td>5000.000000</td>\n",
       "      <td>5000.000000</td>\n",
       "      <td>5000.000000</td>\n",
       "      <td>5000.000000</td>\n",
       "      <td>5000.000000</td>\n",
       "      <td>5000.000000</td>\n",
       "    </tr>\n",
       "    <tr>\n",
       "      <th>mean</th>\n",
       "      <td>2242.846274</td>\n",
       "      <td>64.618473</td>\n",
       "      <td>944.666618</td>\n",
       "      <td>33.756563</td>\n",
       "      <td>95.513467</td>\n",
       "      <td>39.787329</td>\n",
       "      <td>1.624964</td>\n",
       "      <td>4.486533</td>\n",
       "      <td>3227.300221</td>\n",
       "      <td>111.958521</td>\n",
       "      <td>...</td>\n",
       "      <td>0.564676</td>\n",
       "      <td>0.070378</td>\n",
       "      <td>5.114420e-07</td>\n",
       "      <td>-0.000448</td>\n",
       "      <td>0.018638</td>\n",
       "      <td>0.009758</td>\n",
       "      <td>0.009758</td>\n",
       "      <td>2.005098</td>\n",
       "      <td>0.564676</td>\n",
       "      <td>0.070378</td>\n",
       "    </tr>\n",
       "    <tr>\n",
       "      <th>std</th>\n",
       "      <td>1853.845285</td>\n",
       "      <td>16.858102</td>\n",
       "      <td>572.705322</td>\n",
       "      <td>16.121002</td>\n",
       "      <td>4.200091</td>\n",
       "      <td>46.887627</td>\n",
       "      <td>1.793648</td>\n",
       "      <td>4.200091</td>\n",
       "      <td>1957.986129</td>\n",
       "      <td>330.772146</td>\n",
       "      <td>...</td>\n",
       "      <td>1.738594</td>\n",
       "      <td>0.706996</td>\n",
       "      <td>1.662361e-04</td>\n",
       "      <td>0.000878</td>\n",
       "      <td>0.005468</td>\n",
       "      <td>0.003953</td>\n",
       "      <td>0.003953</td>\n",
       "      <td>0.378332</td>\n",
       "      <td>1.738594</td>\n",
       "      <td>0.706996</td>\n",
       "    </tr>\n",
       "    <tr>\n",
       "      <th>min</th>\n",
       "      <td>182.001656</td>\n",
       "      <td>19.492924</td>\n",
       "      <td>105.352082</td>\n",
       "      <td>2.218141</td>\n",
       "      <td>70.677164</td>\n",
       "      <td>0.063182</td>\n",
       "      <td>0.002234</td>\n",
       "      <td>0.013127</td>\n",
       "      <td>393.870306</td>\n",
       "      <td>2.410311</td>\n",
       "      <td>...</td>\n",
       "      <td>-1.851368</td>\n",
       "      <td>-2.130673</td>\n",
       "      <td>-1.049175e-03</td>\n",
       "      <td>-0.004361</td>\n",
       "      <td>0.008992</td>\n",
       "      <td>0.003645</td>\n",
       "      <td>0.003645</td>\n",
       "      <td>1.188950</td>\n",
       "      <td>-1.851368</td>\n",
       "      <td>-2.130673</td>\n",
       "    </tr>\n",
       "    <tr>\n",
       "      <th>25%</th>\n",
       "      <td>1009.686180</td>\n",
       "      <td>52.998781</td>\n",
       "      <td>547.027436</td>\n",
       "      <td>21.775991</td>\n",
       "      <td>93.560684</td>\n",
       "      <td>10.946137</td>\n",
       "      <td>0.347487</td>\n",
       "      <td>1.241594</td>\n",
       "      <td>1863.994785</td>\n",
       "      <td>14.529600</td>\n",
       "      <td>...</td>\n",
       "      <td>-0.347156</td>\n",
       "      <td>-0.340853</td>\n",
       "      <td>-7.130486e-05</td>\n",
       "      <td>-0.000911</td>\n",
       "      <td>0.014335</td>\n",
       "      <td>0.006999</td>\n",
       "      <td>0.006999</td>\n",
       "      <td>1.744527</td>\n",
       "      <td>-0.347156</td>\n",
       "      <td>-0.340853</td>\n",
       "    </tr>\n",
       "    <tr>\n",
       "      <th>50%</th>\n",
       "      <td>1705.183308</td>\n",
       "      <td>66.792593</td>\n",
       "      <td>779.619006</td>\n",
       "      <td>31.364370</td>\n",
       "      <td>96.583947</td>\n",
       "      <td>24.939947</td>\n",
       "      <td>1.023576</td>\n",
       "      <td>3.416053</td>\n",
       "      <td>2826.860362</td>\n",
       "      <td>28.273553</td>\n",
       "      <td>...</td>\n",
       "      <td>0.065799</td>\n",
       "      <td>-0.042454</td>\n",
       "      <td>1.639271e-06</td>\n",
       "      <td>-0.000297</td>\n",
       "      <td>0.017363</td>\n",
       "      <td>0.008766</td>\n",
       "      <td>0.008766</td>\n",
       "      <td>1.936696</td>\n",
       "      <td>0.065799</td>\n",
       "      <td>-0.042454</td>\n",
       "    </tr>\n",
       "    <tr>\n",
       "      <th>75%</th>\n",
       "      <td>2678.847972</td>\n",
       "      <td>77.328811</td>\n",
       "      <td>1199.089822</td>\n",
       "      <td>44.458585</td>\n",
       "      <td>98.758406</td>\n",
       "      <td>45.549542</td>\n",
       "      <td>2.276872</td>\n",
       "      <td>6.439316</td>\n",
       "      <td>4085.011726</td>\n",
       "      <td>79.541694</td>\n",
       "      <td>...</td>\n",
       "      <td>0.782407</td>\n",
       "      <td>0.342719</td>\n",
       "      <td>6.955046e-05</td>\n",
       "      <td>0.000161</td>\n",
       "      <td>0.021882</td>\n",
       "      <td>0.011538</td>\n",
       "      <td>0.011537</td>\n",
       "      <td>2.220642</td>\n",
       "      <td>0.782407</td>\n",
       "      <td>0.342719</td>\n",
       "    </tr>\n",
       "    <tr>\n",
       "      <th>max</th>\n",
       "      <td>12278.649761</td>\n",
       "      <td>97.703187</td>\n",
       "      <td>3211.424686</td>\n",
       "      <td>77.507972</td>\n",
       "      <td>99.986873</td>\n",
       "      <td>359.927420</td>\n",
       "      <td>12.533266</td>\n",
       "      <td>29.322836</td>\n",
       "      <td>13119.276456</td>\n",
       "      <td>7617.164272</td>\n",
       "      <td>...</td>\n",
       "      <td>16.367846</td>\n",
       "      <td>3.626919</td>\n",
       "      <td>9.518686e-04</td>\n",
       "      <td>0.002038</td>\n",
       "      <td>0.036017</td>\n",
       "      <td>0.026660</td>\n",
       "      <td>0.026660</td>\n",
       "      <td>3.676899</td>\n",
       "      <td>16.367846</td>\n",
       "      <td>3.626919</td>\n",
       "    </tr>\n",
       "  </tbody>\n",
       "</table>\n",
       "<p>8 rows × 35 columns</p>\n",
       "</div>"
      ],
      "text/plain": [
       "                VLF      VLF_PCT           LF       LF_PCT        LF_NU  \\\n",
       "count   5000.000000  5000.000000  5000.000000  5000.000000  5000.000000   \n",
       "mean    2242.846274    64.618473   944.666618    33.756563    95.513467   \n",
       "std     1853.845285    16.858102   572.705322    16.121002     4.200091   \n",
       "min      182.001656    19.492924   105.352082     2.218141    70.677164   \n",
       "25%     1009.686180    52.998781   547.027436    21.775991    93.560684   \n",
       "50%     1705.183308    66.792593   779.619006    31.364370    96.583947   \n",
       "75%     2678.847972    77.328811  1199.089822    44.458585    98.758406   \n",
       "max    12278.649761    97.703187  3211.424686    77.507972    99.986873   \n",
       "\n",
       "                HF       HF_PCT        HF_NU            TP        LF_HF  ...  \\\n",
       "count  5000.000000  5000.000000  5000.000000   5000.000000  5000.000000  ...   \n",
       "mean     39.787329     1.624964     4.486533   3227.300221   111.958521  ...   \n",
       "std      46.887627     1.793648     4.200091   1957.986129   330.772146  ...   \n",
       "min       0.063182     0.002234     0.013127    393.870306     2.410311  ...   \n",
       "25%      10.946137     0.347487     1.241594   1863.994785    14.529600  ...   \n",
       "50%      24.939947     1.023576     3.416053   2826.860362    28.273553  ...   \n",
       "75%      45.549542     2.276872     6.439316   4085.011726    79.541694  ...   \n",
       "max     359.927420    12.533266    29.322836  13119.276456  7617.164272  ...   \n",
       "\n",
       "              KURT         SKEW   MEAN_REL_RR  MEDIAN_REL_RR  SDRR_REL_RR  \\\n",
       "count  5000.000000  5000.000000  5.000000e+03    5000.000000  5000.000000   \n",
       "mean      0.564676     0.070378  5.114420e-07      -0.000448     0.018638   \n",
       "std       1.738594     0.706996  1.662361e-04       0.000878     0.005468   \n",
       "min      -1.851368    -2.130673 -1.049175e-03      -0.004361     0.008992   \n",
       "25%      -0.347156    -0.340853 -7.130486e-05      -0.000911     0.014335   \n",
       "50%       0.065799    -0.042454  1.639271e-06      -0.000297     0.017363   \n",
       "75%       0.782407     0.342719  6.955046e-05       0.000161     0.021882   \n",
       "max      16.367846     3.626919  9.518686e-04       0.002038     0.036017   \n",
       "\n",
       "       RMSSD_REL_RR  SDSD_REL_RR  SDRR_RMSSD_REL_RR  KURT_REL_RR  SKEW_REL_RR  \n",
       "count   5000.000000  5000.000000        5000.000000  5000.000000  5000.000000  \n",
       "mean       0.009758     0.009758           2.005098     0.564676     0.070378  \n",
       "std        0.003953     0.003953           0.378332     1.738594     0.706996  \n",
       "min        0.003645     0.003645           1.188950    -1.851368    -2.130673  \n",
       "25%        0.006999     0.006999           1.744527    -0.347156    -0.340853  \n",
       "50%        0.008766     0.008766           1.936696     0.065799    -0.042454  \n",
       "75%        0.011538     0.011537           2.220642     0.782407     0.342719  \n",
       "max        0.026660     0.026660           3.676899    16.367846     3.626919  \n",
       "\n",
       "[8 rows x 35 columns]"
      ]
     },
     "execution_count": 7,
     "metadata": {},
     "output_type": "execute_result"
    }
   ],
   "source": [
    "data.describe()"
   ]
  },
  {
   "cell_type": "code",
   "execution_count": 8,
   "metadata": {},
   "outputs": [
    {
     "data": {
      "image/png": "[encoded data removed]",
      "text/plain": [
       "<Figure size 640x480 with 1 Axes>"
      ]
     },
     "metadata": {},
     "output_type": "display_data"
    }
   ],
   "source": [
    "plt.plot(data['HR'], color='navy')\n",
    "plt.title('Heart Rate')\n",
    "plt.show()"
   ]
  },
  {
   "cell_type": "code",
   "execution_count": 9,
   "metadata": {},
   "outputs": [
    {
     "name": "stderr",
     "output_type": "stream",
     "text": [
      "C:\\Users\\shory\\AppData\\Local\\Temp\\ipykernel_37244\\2195483896.py:2: UserWarning: \n",
      "\n",
      "`distplot` is a deprecated function and will be removed in seaborn v0.14.0.\n",
      "\n",
      "Please adapt your code to use either `displot` (a figure-level function with\n",
      "similar flexibility) or `histplot` (an axes-level function for histograms).\n",
      "\n",
      "For a guide to updating your code to use the new functions, please see\n",
      "https://gist.github.com/mwaskom/de44147ed2974457ad6372750bbe5751\n",
      "\n",
      "  sns.distplot(data['HR'], color='blue', bins=100, hist_kws={'alpha': 0.6}, kde=1)\n"
     ]
    },
    {
     "data": {
      "text/plain": [
       "<Axes: xlabel='HR', ylabel='Density'>"
      ]
     },
     "execution_count": 9,
     "metadata": {},
     "output_type": "execute_result"
    },
    {
     "data": {
      "image/png": "[encoded data removed]",
      "text/plain": [
       "<Figure size 800x600 with 1 Axes>"
      ]
     },
     "metadata": {},
     "output_type": "display_data"
    }
   ],
   "source": [
    "plt.figure(figsize=(8,6))\n",
    "sns.distplot(data['HR'], color='blue', bins=100, hist_kws={'alpha': 0.6}, kde=1)"
   ]
  },
  {
   "cell_type": "code",
   "execution_count": 10,
   "metadata": {},
   "outputs": [
    {
     "data": {
      "image/png": "[encoded data removed]",
      "text/plain": [
       "<Figure size 800x1000 with 10 Axes>"
      ]
     },
     "metadata": {},
     "output_type": "display_data"
    }
   ],
   "source": [
    "features_to_visualize = ['MEDIAN_RR', 'MEAN_RR', 'HF_PCT', 'HF_LF', 'LF_HF', 'HF_NU', 'LF_NU', 'HF', 'SDRR_RMSSD_REL_RR', 'SDSD_REL_RR']\n",
    "\n",
    "\n",
    "feature_columns = data.columns[1:]\n",
    "\n",
    "\n",
    "plt.rcParams.update({'font.size': 8})\n",
    "fig, axes = plt.subplots(nrows=5, ncols=2, figsize=(8, 10))\n",
    "axes = axes.ravel()\n",
    "\n",
    "\n",
    "for idx, ax in enumerate(axes):\n",
    "    ax.figure\n",
    "    numeric_values = pd.to_numeric(data[feature_columns[idx]], errors='coerce').dropna()\n",
    "\n",
    "    if not numeric_values.empty:\n",
    "        binwidth = (max(numeric_values) - min(numeric_values)) / 50\n",
    "        ax.hist(numeric_values, bins=np.arange(min(numeric_values), max(numeric_values) + binwidth, binwidth),\n",
    "                alpha=0.5, color='blue')\n",
    "        ax.set_title(feature_columns[idx])\n",
    "\n",
    "plt.tight_layout()\n",
    "plt.show()"
   ]
  },
  {
   "cell_type": "code",
   "execution_count": 11,
   "metadata": {},
   "outputs": [
    {
     "data": {
      "text/plain": [
       "<Axes: >"
      ]
     },
     "execution_count": 11,
     "metadata": {},
     "output_type": "execute_result"
    },
    {
     "data": {
      "image/png": "[encoded data removed]",
      "text/plain": [
       "<Figure size 640x480 with 2 Axes>"
      ]
     },
     "metadata": {},
     "output_type": "display_data"
    }
   ],
   "source": [
    "numeric_data = data.select_dtypes(include='number')\n",
    "correlation = numeric_data.corr()\n",
    "sns.heatmap(correlation, annot=False)"
   ]
  },
  {
   "cell_type": "code",
   "execution_count": 12,
   "metadata": {},
   "outputs": [
    {
     "name": "stdout",
     "output_type": "stream",
     "text": [
      "0       2\n",
      "1       2\n",
      "2       2\n",
      "3       2\n",
      "4       2\n",
      "       ..\n",
      "4995    2\n",
      "4996    2\n",
      "4997    2\n",
      "4998    2\n",
      "4999    2\n",
      "Name: datasetId, Length: 5000, dtype: int64\n",
      "0\n"
     ]
    }
   ],
   "source": [
    "print(data['datasetId'])\n",
    "cdatasetid=0\n",
    "for x in data['datasetId']:\n",
    "    if(x!=2):\n",
    "        cdatasetid+=1\n",
    "print(cdatasetid)"
   ]
  },
  {
   "cell_type": "code",
   "execution_count": 13,
   "metadata": {},
   "outputs": [
    {
     "name": "stdout",
     "output_type": "stream",
     "text": [
      "['uuid', 'VLF', 'VLF_PCT', 'LF', 'LF_PCT', 'LF_NU', 'HF', 'HF_PCT', 'HF_NU', 'TP', 'LF_HF', 'HF_LF', 'SD1', 'SD2', 'sampen', 'higuci', 'datasetId', 'condition', 'MEAN_RR', 'MEDIAN_RR', 'SDRR', 'RMSSD', 'SDSD', 'SDRR_RMSSD', 'HR', 'pNN25', 'pNN50', 'KURT', 'SKEW', 'MEAN_REL_RR', 'MEDIAN_REL_RR', 'SDRR_REL_RR', 'RMSSD_REL_RR', 'SDSD_REL_RR', 'SDRR_RMSSD_REL_RR', 'KURT_REL_RR', 'SKEW_REL_RR']\n",
      "37\n"
     ]
    }
   ],
   "source": [
    "colnames=[]\n",
    "for i in data:\n",
    "    colnames.append(i)\n",
    "\n",
    "print(colnames)\n",
    "print(len(colnames))"
   ]
  },
  {
   "cell_type": "markdown",
   "metadata": {},
   "source": [
    "Observation : Dataset does not have null values for any feature"
   ]
  },
  {
   "cell_type": "code",
   "execution_count": 14,
   "metadata": {},
   "outputs": [
    {
     "name": "stdout",
     "output_type": "stream",
     "text": [
      "<class 'pandas.core.frame.DataFrame'>\n",
      "RangeIndex: 5000 entries, 0 to 4999\n",
      "Data columns (total 36 columns):\n",
      " #   Column             Non-Null Count  Dtype  \n",
      "---  ------             --------------  -----  \n",
      " 0   VLF                5000 non-null   float64\n",
      " 1   VLF_PCT            5000 non-null   float64\n",
      " 2   LF                 5000 non-null   float64\n",
      " 3   LF_PCT             5000 non-null   float64\n",
      " 4   LF_NU              5000 non-null   float64\n",
      " 5   HF                 5000 non-null   float64\n",
      " 6   HF_PCT             5000 non-null   float64\n",
      " 7   HF_NU              5000 non-null   float64\n",
      " 8   TP                 5000 non-null   float64\n",
      " 9   LF_HF              5000 non-null   float64\n",
      " 10  HF_LF              5000 non-null   float64\n",
      " 11  SD1                5000 non-null   float64\n",
      " 12  SD2                5000 non-null   float64\n",
      " 13  sampen             5000 non-null   float64\n",
      " 14  higuci             5000 non-null   float64\n",
      " 15  datasetId          5000 non-null   int64  \n",
      " 16  condition          5000 non-null   int64  \n",
      " 17  MEAN_RR            5000 non-null   float64\n",
      " 18  MEDIAN_RR          5000 non-null   float64\n",
      " 19  SDRR               5000 non-null   float64\n",
      " 20  RMSSD              5000 non-null   float64\n",
      " 21  SDSD               5000 non-null   float64\n",
      " 22  SDRR_RMSSD         5000 non-null   float64\n",
      " 23  HR                 5000 non-null   float64\n",
      " 24  pNN25              5000 non-null   float64\n",
      " 25  pNN50              5000 non-null   float64\n",
      " 26  KURT               5000 non-null   float64\n",
      " 27  SKEW               5000 non-null   float64\n",
      " 28  MEAN_REL_RR        5000 non-null   float64\n",
      " 29  MEDIAN_REL_RR      5000 non-null   float64\n",
      " 30  SDRR_REL_RR        5000 non-null   float64\n",
      " 31  RMSSD_REL_RR       5000 non-null   float64\n",
      " 32  SDSD_REL_RR        5000 non-null   float64\n",
      " 33  SDRR_RMSSD_REL_RR  5000 non-null   float64\n",
      " 34  KURT_REL_RR        5000 non-null   float64\n",
      " 35  SKEW_REL_RR        5000 non-null   float64\n",
      "dtypes: float64(34), int64(2)\n",
      "memory usage: 1.4 MB\n",
      "None\n"
     ]
    }
   ],
   "source": [
    "new_dfd = data.drop(\"uuid\", axis=\"columns\")\n",
    "\n",
    "# Replace categorical values in the \"condition\" column\n",
    "condition_mapping = {\"interruption\": 0, \"no stress\": 1, \"time pressure\": 2}\n",
    "new_dfd[\"condition\"] = new_dfd[\"condition\"].map(condition_mapping)\n",
    "\n",
    "# Display information about the new DataFrame\n",
    "print(new_dfd.info())"
   ]
  },
  {
   "cell_type": "code",
   "execution_count": 15,
   "metadata": {},
   "outputs": [
    {
     "name": "stdout",
     "output_type": "stream",
     "text": [
      "VLF                 -0.318167\n",
      "VLF_PCT             -0.255635\n",
      "LF                  -0.108677\n",
      "LF_PCT               0.193269\n",
      "LF_NU               -0.731351\n",
      "HF                   0.650439\n",
      "HF_PCT               0.665585\n",
      "HF_NU                0.731351\n",
      "TP                  -0.317456\n",
      "LF_HF               -0.414726\n",
      "HF_LF                0.709137\n",
      "SD1                 -0.295949\n",
      "SD2                 -0.209897\n",
      "sampen              -0.304726\n",
      "higuci               0.429574\n",
      "datasetId                 NaN\n",
      "condition           -0.091487\n",
      "MEAN_RR             -0.943725\n",
      "MEDIAN_RR           -0.927397\n",
      "SDRR                -0.210253\n",
      "RMSSD               -0.295959\n",
      "SDSD                -0.295949\n",
      "SDRR_RMSSD          -0.088706\n",
      "HR                   1.000000\n",
      "pNN25               -0.274146\n",
      "pNN50               -0.126235\n",
      "KURT                 0.297863\n",
      "SKEW                 0.303769\n",
      "MEAN_REL_RR          0.002380\n",
      "MEDIAN_REL_RR        0.074035\n",
      "SDRR_REL_RR          0.234775\n",
      "RMSSD_REL_RR         0.505095\n",
      "SDSD_REL_RR          0.505095\n",
      "SDRR_RMSSD_REL_RR   -0.677232\n",
      "KURT_REL_RR          0.297863\n",
      "SKEW_REL_RR          0.303769\n",
      "Name: HR, dtype: float64\n"
     ]
    }
   ],
   "source": [
    "xx=new_dfd.corr()\n",
    "print(xx[\"HR\"])"
   ]
  },
  {
   "cell_type": "code",
   "execution_count": 16,
   "metadata": {},
   "outputs": [],
   "source": [
    "x=new_dfd[\"HR\"]\n",
    "y1=new_dfd[\"MEAN_RR\"]\n",
    "y2=new_dfd[\"MEDIAN_RR\"]"
   ]
  },
  {
   "cell_type": "code",
   "execution_count": 17,
   "metadata": {},
   "outputs": [],
   "source": [
    "rfr_dfd=data.drop([\"uuid\", \"datasetId\"], axis=1)"
   ]
  },
  {
   "cell_type": "markdown",
   "metadata": {},
   "source": [
    "# Creating a Random Forest Regressor model"
   ]
  },
  {
   "cell_type": "code",
   "execution_count": 18,
   "metadata": {},
   "outputs": [
    {
     "name": "stdout",
     "output_type": "stream",
     "text": [
      "Mean Squared Error: 0.023615767627578974\n",
      "R-squared: 0.9997867703730121\n"
     ]
    }
   ],
   "source": [
    "X = rfr_dfd.drop('HR', axis=1)\n",
    "y = rfr_dfd['HR']\n",
    "\n",
    "numerical_features = X.select_dtypes(include=['float64']).columns\n",
    "categorical_features = X.select_dtypes(include=['object']).columns\n",
    "\n",
    "preprocessor = ColumnTransformer(\n",
    "    transformers=[\n",
    "        ('num', StandardScaler(), numerical_features),\n",
    "        ('cat', OneHotEncoder(), categorical_features)\n",
    "    ])\n",
    "\n",
    "model = make_pipeline(preprocessor, RandomForestRegressor(n_estimators=200, random_state=42))\n",
    "\n",
    "model.fit(X, y)\n",
    "\n",
    "y_pred = model.predict(X)\n",
    "\n",
    "mse = mean_squared_error(y, y_pred)\n",
    "r2 = r2_score(y, y_pred)\n",
    "\n",
    "print(f'Mean Squared Error: {mse}') \n",
    "print(f'R-squared: {r2}')"
   ]
  },
  {
   "cell_type": "markdown",
   "metadata": {},
   "source": [
    "# Saving Model"
   ]
  },
  {
   "cell_type": "code",
   "execution_count": 19,
   "metadata": {},
   "outputs": [
    {
     "name": "stdout",
     "output_type": "stream",
     "text": [
      "Trained model saved as forestmodel.pkl\n"
     ]
    }
   ],
   "source": [
    "import pickle\n",
    "\n",
    "model_filename = \"forestmodel.pkl\"\n",
    "\n",
    "with open(model_filename, 'wb') as model_file:\n",
    "    pickle.dump(model, model_file)\n",
    "\n",
    "print(f\"Trained model saved as {model_filename}\")\n"
   ]
  },
  {
   "cell_type": "markdown",
   "metadata": {},
   "source": [
    "# Testing Model"
   ]
  },
  {
   "cell_type": "code",
   "execution_count": 20,
   "metadata": {},
   "outputs": [
    {
     "name": "stdout",
     "output_type": "stream",
     "text": [
      "<class 'pandas.core.frame.DataFrame'>\n",
      "RangeIndex: 10 entries, 0 to 9\n",
      "Data columns (total 36 columns):\n",
      " #   Column             Non-Null Count  Dtype  \n",
      "---  ------             --------------  -----  \n",
      " 0   uuid               10 non-null     object \n",
      " 1   VLF                10 non-null     float64\n",
      " 2   VLF_PCT            10 non-null     float64\n",
      " 3   LF                 10 non-null     float64\n",
      " 4   LF_PCT             10 non-null     float64\n",
      " 5   LF_NU              10 non-null     float64\n",
      " 6   HF                 10 non-null     float64\n",
      " 7   HF_PCT             10 non-null     float64\n",
      " 8   HF_NU              10 non-null     float64\n",
      " 9   TP                 10 non-null     float64\n",
      " 10  LF_HF              10 non-null     float64\n",
      " 11  HF_LF              10 non-null     float64\n",
      " 12  SD1                10 non-null     float64\n",
      " 13  SD2                10 non-null     float64\n",
      " 14  sampen             10 non-null     float64\n",
      " 15  higuci             10 non-null     float64\n",
      " 16  datasetId          10 non-null     int64  \n",
      " 17  condition          10 non-null     object \n",
      " 18  MEAN_RR            10 non-null     float64\n",
      " 19  MEDIAN_RR          10 non-null     float64\n",
      " 20  SDRR               10 non-null     float64\n",
      " 21  RMSSD              10 non-null     float64\n",
      " 22  SDSD               10 non-null     float64\n",
      " 23  SDRR_RMSSD         10 non-null     float64\n",
      " 24  pNN25              10 non-null     float64\n",
      " 25  pNN50              10 non-null     float64\n",
      " 26  KURT               10 non-null     float64\n",
      " 27  SKEW               10 non-null     float64\n",
      " 28  MEAN_REL_RR        10 non-null     float64\n",
      " 29  MEDIAN_REL_RR      10 non-null     float64\n",
      " 30  SDRR_REL_RR        10 non-null     float64\n",
      " 31  RMSSD_REL_RR       10 non-null     float64\n",
      " 32  SDSD_REL_RR        10 non-null     float64\n",
      " 33  SDRR_RMSSD_REL_RR  10 non-null     float64\n",
      " 34  KURT_REL_RR        10 non-null     float64\n",
      " 35  SKEW_REL_RR        10 non-null     float64\n",
      "dtypes: float64(33), int64(1), object(2)\n",
      "memory usage: 2.9+ KB\n",
      "None\n",
      "<class 'pandas.core.frame.DataFrame'>\n",
      "RangeIndex: 10 entries, 0 to 9\n",
      "Data columns (total 2 columns):\n",
      " #   Column  Non-Null Count  Dtype  \n",
      "---  ------  --------------  -----  \n",
      " 0   uuid    10 non-null     object \n",
      " 1   HR      10 non-null     float64\n",
      "dtypes: float64(1), object(1)\n",
      "memory usage: 288.0+ bytes\n",
      "None\n"
     ]
    }
   ],
   "source": [
    "testdd=pd.read_csv(\"sample_test_data.csv\")\n",
    "resultdd=pd.read_csv(\"sample_output_generated.csv\")\n",
    "print(testdd.info())\n",
    "print(resultdd.info())"
   ]
  },
  {
   "cell_type": "markdown",
   "metadata": {},
   "source": [
    "# Making csv"
   ]
  },
  {
   "cell_type": "code",
   "execution_count": 21,
   "metadata": {},
   "outputs": [],
   "source": [
    "uuidcol=testdd[\"uuid\"]\n",
    "new_data = testdd.drop(['uuid', 'datasetId'], axis=1)\n",
    "\n",
    "new_predictions = model.predict(new_data)\n",
    "\n",
    "result_df = pd.DataFrame({'uuid': uuidcol, 'HR': new_predictions})\n",
    "result_df.to_csv('results.csv', index=False)"
   ]
  },
  {
   "cell_type": "code",
   "execution_count": 22,
   "metadata": {},
   "outputs": [
    {
     "name": "stdout",
     "output_type": "stream",
     "text": [
      "MSE on test data : 0.02614451605667013\n"
     ]
    }
   ],
   "source": [
    "rdd=pd.read_csv(\"results.csv\")\n",
    "res=pd.read_csv(\"sample_output_generated.csv\")\n",
    "mse2=mean_squared_error(rdd['HR'],res['HR'])\n",
    "print(f\"MSE on test data : {mse2}\")"
   ]
  }
 ],
 "metadata": {
  "kernelspec": {
   "display_name": "myenv",
   "language": "python",
   "name": "python3"
  },
  "language_info": {
   "codemirror_mode": {
    "name": "ipython",
    "version": 3
   },
   "file_extension": ".py",
   "mimetype": "text/x-python",
   "name": "python",
   "nbconvert_exporter": "python",
   "pygments_lexer": "ipython3",
   "version": "3.9.18"
  }
 },
 "nbformat": 4,
 "nbformat_minor": 2
}
